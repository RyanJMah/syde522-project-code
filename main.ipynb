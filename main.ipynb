{
 "cells": [
  {
   "cell_type": "code",
   "execution_count": null,
   "metadata": {},
   "outputs": [],
   "source": [
    "SVM_SKIP_TRAINING = False\n",
    "MLP_SKIP_TRAINING = False"
   ]
  },
  {
   "cell_type": "code",
   "execution_count": null,
   "metadata": {},
   "outputs": [],
   "source": [
    "import os\n",
    "import sys\n",
    "\n",
    "from tqdm.notebook import tqdm\n",
    "\n",
    "import warnings\n",
    "warnings.filterwarnings('ignore')\n",
    "\n",
    "import src.paths as paths\n",
    "\n",
    "sys.path.append(paths.SRC_DIR)\n",
    "sys.path.append(paths.VGGISH_DIR)\n",
    "\n",
    "%load_ext autoreload\n",
    "%autoreload 2"
   ]
  },
  {
   "cell_type": "code",
   "execution_count": null,
   "metadata": {},
   "outputs": [],
   "source": [
    "from IPython.core.magic import register_line_cell_magic\n",
    "from IPython import get_ipython\n",
    "\n",
    "@register_line_cell_magic\n",
    "def skip(line, cell=None):\n",
    "    '''Skips execution of the current line/cell if line evaluates to True.'''\n",
    "    if eval(line):\n",
    "        return\n",
    "\n",
    "    get_ipython().ex(cell)"
   ]
  },
  {
   "cell_type": "markdown",
   "metadata": {},
   "source": [
    "# 1 - Extract features"
   ]
  },
  {
   "cell_type": "code",
   "execution_count": null,
   "metadata": {},
   "outputs": [],
   "source": [
    "from src.feature_extract import extract_features_batch\n",
    "\n",
    "# Define the batch size\n",
    "BATCH_SIZE = 25  # You can adjust this based on your system's capabilities\n",
    "\n",
    "batch_files = []\n",
    "batch_out_files = []\n",
    "\n",
    "for root, dirs, files in os.walk( os.path.join(paths.DATA_DIR, \"openmic\", \"audio\") ):\n",
    "    for file in files:\n",
    "        if file.endswith(\".ogg\"):\n",
    "            ogg_file = os.path.join(root, file)\n",
    "\n",
    "            file_base = os.path.splitext(file)[0]\n",
    "\n",
    "            dir_ = os.path.join(paths.DATA_DIR, \"features\", file_base[:3])\n",
    "\n",
    "            if not os.path.exists(dir_):\n",
    "                os.makedirs(dir_)\n",
    "\n",
    "            \n",
    "            new_filename = os.path.join(dir_, f\"{file_base}.tfrecord\")\n",
    "\n",
    "            # print(new_filename)\n",
    "            \n",
    "            if os.path.exists(new_filename):\n",
    "                continue\n",
    "\n",
    "            batch_files.append(ogg_file)\n",
    "            batch_out_files.append(new_filename)\n",
    "\n",
    "            # print(f\"Adding {file_base}.ogg\")\n",
    "\n",
    "\n",
    "def chunks(lst1, lst2, chunk_size):\n",
    "    \"\"\"Yield successive chunk_size chunks from lst1 and lst2.\"\"\"\n",
    "    for i in range(0, min(len(lst1), len(lst2)), chunk_size):\n",
    "        yield lst1[i:i + chunk_size], lst2[i:i + chunk_size]\n",
    "\n",
    "\n",
    "assert len(batch_files) == len(batch_out_files)\n",
    "\n",
    "print(f\"About to process {len(batch_files)} files...\")\n",
    "\n",
    "# Initialize the progress bar, dark mode\n",
    "pbar = tqdm(total=len(batch_files), desc=\"Extracting features\", unit=\" file\")\n",
    "\n",
    "files_processed = 0\n",
    "\n",
    "for in_files, out_files in chunks(batch_files, batch_out_files, BATCH_SIZE):\n",
    "    assert len(in_files) == len(out_files)\n",
    "\n",
    "    count = len(in_files)\n",
    "\n",
    "    extract_features_batch(in_files, out_files)\n",
    "\n",
    "    files_processed += count\n",
    "    pbar.update(count)\n",
    "\n",
    "print(f\"Processed {files_processed} files.\")\n",
    "pbar.close()"
   ]
  },
  {
   "cell_type": "markdown",
   "metadata": {},
   "source": [
    "# 2 - Assign labels"
   ]
  },
  {
   "cell_type": "code",
   "execution_count": null,
   "metadata": {},
   "outputs": [],
   "source": [
    "from data_preprocessing import aggregate_labels\n",
    "\n",
    "label_csv = os.path.join(paths.DATA_DIR, \"openmic\", \"openmic-2018-aggregated-labels.csv\")\n",
    "\n",
    "df, DISTINCT_INSTRUMENTS = aggregate_labels(label_csv)\n",
    "\n",
    "df"
   ]
  },
  {
   "cell_type": "code",
   "execution_count": null,
   "metadata": {},
   "outputs": [],
   "source": [
    "from data_preprocessing import calculate_binary_labels\n",
    "\n",
    "POSTIVE_LABEL_CONFIDENCE_THRESHOLD = 0.8\n",
    "\n",
    "df = calculate_binary_labels(df, tqdm=tqdm, lambda_=POSTIVE_LABEL_CONFIDENCE_THRESHOLD)\n",
    "\n",
    "df.to_csv( os.path.join(paths.DATA_DIR, \"calculated_labels.csv\") )\n",
    "\n",
    "df"
   ]
  },
  {
   "cell_type": "code",
   "execution_count": null,
   "metadata": {},
   "outputs": [],
   "source": [
    "from data_preprocessing import load_features\n",
    "\n",
    "load_features(df, tqdm=tqdm)"
   ]
  },
  {
   "cell_type": "code",
   "execution_count": null,
   "metadata": {},
   "outputs": [],
   "source": [
    "# Exclude rows with a significance_score of 0\n",
    "\n",
    "# df = df[df[\"significance_score\"] > 0]"
   ]
  },
  {
   "cell_type": "code",
   "execution_count": null,
   "metadata": {},
   "outputs": [],
   "source": [
    "from data_preprocessing import split_data\n",
    "\n",
    "train_df, test_df = split_data(df, split_ratio = 0.7)"
   ]
  },
  {
   "cell_type": "code",
   "execution_count": null,
   "metadata": {},
   "outputs": [],
   "source": [
    "import matplotlib.pyplot as plt\n",
    "\n",
    "# plot distribution of \"significance_score\" in the training set\n",
    "plt.hist(train_df[\"significance_score\"], bins=100)\n",
    "plt.xlabel(\"Significance Score\")\n",
    "plt.ylabel(\"Count\")\n",
    "plt.title(\"Distribution of Significance Scores in Training Set\")\n",
    "\n",
    "plt.plot()\n",
    "plt.show()\n",
    "\n",
    "# plot distribution of \"significance_score\" in the test set\n",
    "plt.hist(test_df[\"significance_score\"], bins=100)\n",
    "plt.xlabel(\"Significance Score\")\n",
    "plt.ylabel(\"Count\")\n",
    "plt.title(\"Distribution of Significance Scores in Test Set\")\n",
    "\n",
    "plt.plot()\n",
    "plt.show()"
   ]
  },
  {
   "cell_type": "code",
   "execution_count": null,
   "metadata": {},
   "outputs": [],
   "source": [
    "import numpy as np\n",
    "from imblearn.under_sampling import RandomUnderSampler\n",
    "from imblearn.over_sampling import SMOTE\n",
    "from sklearn.model_selection import train_test_split\n",
    "\n",
    "# train_df.sort_values(by='significance_score', inplace=True)\n",
    "\n",
    "X_train_raw = train_df['features'].to_numpy()\n",
    "X_test_raw  = test_df['features'].to_numpy()\n",
    "\n",
    "train_significance_scores = train_df['significance_score'].to_numpy()\n",
    "\n",
    "X_train = [ np.array(x).flatten() for x in X_train_raw ]\n",
    "X_test  = [ np.array(x).flatten() for x in X_test_raw ]\n",
    "\n",
    "# Keyed by instrument: str\n",
    "y_test_dict  = {}\n",
    "y_train_dict = {}\n",
    "\n",
    "\n",
    "for instrument in DISTINCT_INSTRUMENTS:\n",
    "    y_test_dict[instrument]  = test_df[instrument].to_numpy()\n",
    "    y_train_dict[instrument] = train_df[instrument].to_numpy()\n",
    "\n",
    "\n",
    "print(\"Example of bias towards negative class in training set for voice:\\n\")\n",
    "print( f'    * num_negative_labels: {len([ x for x in y_train_dict[\"voice\"] if x == False])}' )\n",
    "print( f'    * num_positive_labels: {len([ x for x in y_train_dict[\"voice\"] if x == True])}\\n' )\n",
    "\n",
    "X_train_balanced_dict = {}\n",
    "y_train_balanced_dict = {}\n",
    "X_val_balanced_dict   = {}\n",
    "y_val_balanced_dict   = {}\n",
    "\n",
    "for instrument in DISTINCT_INSTRUMENTS:\n",
    "    balancer = SMOTE(random_state=42)\n",
    "    # balancer = RandomUnderSampler()\n",
    "\n",
    "    X_train_resampled, y_train_resampled = balancer.fit_resample(X_train, y_train_dict[instrument])\n",
    "\n",
    "    # Split the resampled data into train and validation sets\n",
    "    X_train_balanced, X_val_balanced, y_train_balanced, y_val_balanced = train_test_split( X_train_resampled, y_train_resampled )\n",
    "\n",
    "    X_train_balanced_dict[instrument] = X_train_balanced\n",
    "    y_train_balanced_dict[instrument] = y_train_balanced\n",
    "    X_val_balanced_dict[instrument]   = X_val_balanced\n",
    "    y_val_balanced_dict[instrument]   = y_val_balanced\n",
    "\n",
    "\n",
    "print(\"Example of balanced training set for voice:\\n\")\n",
    "print( f'    * num_negative_labels: {len([ x for x in y_train_balanced_dict[\"voice\"] if x == False])}' )\n",
    "print( f'    * num_positive_labels: {len([ x for x in y_train_balanced_dict[\"voice\"] if x == True])}' )\n"
   ]
  },
  {
   "cell_type": "markdown",
   "metadata": {},
   "source": [
    "# 3 - Train SVM Classifier"
   ]
  },
  {
   "cell_type": "code",
   "execution_count": null,
   "metadata": {},
   "outputs": [],
   "source": [
    "print(\"Dataset sizes after balancing:\\n\")\n",
    "\n",
    "for instrument in DISTINCT_INSTRUMENTS:\n",
    "    print(f\"{instrument}:\".ljust(20), f\"Train: {len(y_train_balanced_dict[instrument])}\".ljust(15), f\"Val: {len(y_val_balanced_dict[instrument])}\")"
   ]
  },
  {
   "cell_type": "code",
   "execution_count": null,
   "metadata": {},
   "outputs": [],
   "source": [
    "from svm_classify import svm_fit_instrument\n",
    "\n",
    "if not os.path.exists(paths.SVM_MODELS_DIR):\n",
    "    os.makedirs(paths.SVM_MODELS_DIR)"
   ]
  },
  {
   "cell_type": "code",
   "execution_count": null,
   "metadata": {},
   "outputs": [],
   "source": [
    "%%skip SVM_SKIP_TRAINING\n",
    "\n",
    "instrument = \"accordion\"\n",
    "param_grid = {\n",
    "    # 'C': np.linspace(0, 10, 10),\n",
    "    # 'kernel': ['rbf', 'sigmoid'],\n",
    "    # 'gamma':  ['scale']\n",
    "}\n",
    "svm_fit_instrument( instrument,\n",
    "                    param_grid,\n",
    "                    X_train_balanced_dict[instrument], y_train_balanced_dict[instrument],\n",
    "                    X_val_balanced_dict[instrument],   y_val_balanced_dict[instrument],\n",
    "                    X_test, y_test_dict[instrument] )"
   ]
  },
  {
   "cell_type": "code",
   "execution_count": null,
   "metadata": {},
   "outputs": [],
   "source": [
    "%%skip SVM_SKIP_TRAINING\n",
    "\n",
    "instrument = \"banjo\"\n",
    "param_grid = {\n",
    "    # 'C': np.linspace(0, 10, 10),\n",
    "    # 'kernel': ['rbf', 'sigmoid'],\n",
    "    # 'gamma':  ['scale']\n",
    "}\n",
    "svm_fit_instrument( instrument,\n",
    "                    param_grid,\n",
    "                    X_train_balanced_dict[instrument], y_train_balanced_dict[instrument],\n",
    "                    X_val_balanced_dict[instrument],   y_val_balanced_dict[instrument],\n",
    "                    X_test, y_test_dict[instrument] )"
   ]
  },
  {
   "cell_type": "code",
   "execution_count": null,
   "metadata": {},
   "outputs": [],
   "source": [
    "%%skip SVM_SKIP_TRAINING\n",
    "\n",
    "instrument = \"bass\"\n",
    "param_grid = {\n",
    "    # 'C': np.linspace(0, 10, 10),\n",
    "    # 'kernel': ['rbf', 'sigmoid'],\n",
    "    # 'gamma':  ['scale']\n",
    "}\n",
    "svm_fit_instrument( instrument,\n",
    "                    param_grid,\n",
    "                    X_train_balanced_dict[instrument], y_train_balanced_dict[instrument],\n",
    "                    X_val_balanced_dict[instrument],   y_val_balanced_dict[instrument],\n",
    "                    X_test, y_test_dict[instrument] )"
   ]
  },
  {
   "cell_type": "code",
   "execution_count": null,
   "metadata": {},
   "outputs": [],
   "source": [
    "%%skip SVM_SKIP_TRAINING\n",
    "\n",
    "instrument = \"cello\"\n",
    "param_grid = {\n",
    "    # 'C': np.linspace(0, 10, 10),\n",
    "    # 'kernel': ['rbf', 'sigmoid'],\n",
    "    # 'gamma':  ['scale']\n",
    "}\n",
    "svm_fit_instrument( instrument,\n",
    "                    param_grid,\n",
    "                    X_train_balanced_dict[instrument], y_train_balanced_dict[instrument],\n",
    "                    X_val_balanced_dict[instrument],   y_val_balanced_dict[instrument],\n",
    "                    X_test, y_test_dict[instrument] )"
   ]
  },
  {
   "cell_type": "code",
   "execution_count": null,
   "metadata": {},
   "outputs": [],
   "source": [
    "%%skip SVM_SKIP_TRAINING\n",
    "\n",
    "instrument = \"clarinet\"\n",
    "param_grid = {\n",
    "    # 'C': np.linspace(0, 10, 10),\n",
    "    # 'kernel': ['rbf', 'sigmoid'],\n",
    "    # 'gamma':  ['scale']\n",
    "}\n",
    "svm_fit_instrument( instrument,\n",
    "                    param_grid,\n",
    "                    X_train_balanced_dict[instrument], y_train_balanced_dict[instrument],\n",
    "                    X_val_balanced_dict[instrument],   y_val_balanced_dict[instrument],\n",
    "                    X_test, y_test_dict[instrument] )"
   ]
  },
  {
   "cell_type": "code",
   "execution_count": null,
   "metadata": {},
   "outputs": [],
   "source": [
    "%%skip SVM_SKIP_TRAINING\n",
    "\n",
    "instrument = \"cymbals\"\n",
    "param_grid = {\n",
    "    # 'C': np.linspace(0, 10, 10),\n",
    "    # 'kernel': ['rbf', 'sigmoid'],\n",
    "    # 'gamma':  ['scale']\n",
    "}\n",
    "svm_fit_instrument( instrument,\n",
    "                    param_grid,\n",
    "                    X_train_balanced_dict[instrument], y_train_balanced_dict[instrument],\n",
    "                    X_val_balanced_dict[instrument],   y_val_balanced_dict[instrument],\n",
    "                    X_test, y_test_dict[instrument] )"
   ]
  },
  {
   "cell_type": "code",
   "execution_count": null,
   "metadata": {},
   "outputs": [],
   "source": [
    "%%skip SVM_SKIP_TRAINING\n",
    "\n",
    "instrument = \"drums\"\n",
    "param_grid = {\n",
    "    # 'C': np.linspace(0, 10, 10),\n",
    "    # 'kernel': ['rbf', 'sigmoid'],\n",
    "    # 'gamma':  ['scale']\n",
    "}\n",
    "svm_fit_instrument( instrument,\n",
    "                    param_grid,\n",
    "                    X_train_balanced_dict[instrument], y_train_balanced_dict[instrument],\n",
    "                    X_val_balanced_dict[instrument],   y_val_balanced_dict[instrument],\n",
    "                    X_test, y_test_dict[instrument] )"
   ]
  },
  {
   "cell_type": "code",
   "execution_count": null,
   "metadata": {},
   "outputs": [],
   "source": [
    "%%skip SVM_SKIP_TRAINING\n",
    "\n",
    "instrument = \"flute\"\n",
    "param_grid = {\n",
    "    # 'C': np.linspace(0, 10, 10),\n",
    "    # 'kernel': ['rbf', 'sigmoid'],\n",
    "    # 'gamma':  ['scale']\n",
    "}\n",
    "svm_fit_instrument( instrument,\n",
    "                    param_grid,\n",
    "                    X_train_balanced_dict[instrument], y_train_balanced_dict[instrument],\n",
    "                    X_val_balanced_dict[instrument],   y_val_balanced_dict[instrument],\n",
    "                    X_test, y_test_dict[instrument] )"
   ]
  },
  {
   "cell_type": "code",
   "execution_count": null,
   "metadata": {},
   "outputs": [],
   "source": [
    "%%skip SVM_SKIP_TRAINING\n",
    "\n",
    "instrument = \"guitar\"\n",
    "param_grid = {\n",
    "    # 'C': np.linspace(0, 10, 10),\n",
    "    # 'kernel': ['rbf', 'sigmoid'],\n",
    "    # 'gamma':  ['scale']\n",
    "}\n",
    "svm_fit_instrument( instrument,\n",
    "                    param_grid,\n",
    "                    X_train_balanced_dict[instrument], y_train_balanced_dict[instrument],\n",
    "                    X_val_balanced_dict[instrument],   y_val_balanced_dict[instrument],\n",
    "                    X_test, y_test_dict[instrument] )"
   ]
  },
  {
   "cell_type": "code",
   "execution_count": null,
   "metadata": {},
   "outputs": [],
   "source": [
    "%%skip SVM_SKIP_TRAINING\n",
    "\n",
    "instrument = \"mallet_percussion\"\n",
    "param_grid = {\n",
    "    # 'C': np.linspace(0, 10, 10),\n",
    "    # 'kernel': ['rbf', 'sigmoid'],\n",
    "    # 'gamma':  ['scale']\n",
    "}\n",
    "svm_fit_instrument( instrument,\n",
    "                    param_grid,\n",
    "                    X_train_balanced_dict[instrument], y_train_balanced_dict[instrument],\n",
    "                    X_val_balanced_dict[instrument],   y_val_balanced_dict[instrument],\n",
    "                    X_test, y_test_dict[instrument] )"
   ]
  },
  {
   "cell_type": "code",
   "execution_count": null,
   "metadata": {},
   "outputs": [],
   "source": [
    "%%skip SVM_SKIP_TRAINING\n",
    "\n",
    "instrument = \"mandolin\"\n",
    "param_grid = {\n",
    "    # 'C': np.linspace(0, 10, 10),\n",
    "    # 'kernel': ['rbf', 'sigmoid'],\n",
    "    # 'gamma':  ['scale']\n",
    "}\n",
    "svm_fit_instrument( instrument,\n",
    "                    param_grid,\n",
    "                    X_train_balanced_dict[instrument], y_train_balanced_dict[instrument],\n",
    "                    X_val_balanced_dict[instrument],   y_val_balanced_dict[instrument],\n",
    "                    X_test, y_test_dict[instrument] )"
   ]
  },
  {
   "cell_type": "code",
   "execution_count": null,
   "metadata": {},
   "outputs": [],
   "source": [
    "%%skip SVM_SKIP_TRAINING\n",
    "\n",
    "instrument = \"organ\"\n",
    "param_grid = {\n",
    "    # 'C': np.linspace(0, 10, 10),\n",
    "    # 'kernel': ['rbf', 'sigmoid'],\n",
    "    # 'gamma':  ['scale']\n",
    "}\n",
    "svm_fit_instrument( instrument,\n",
    "                    param_grid,\n",
    "                    X_train_balanced_dict[instrument], y_train_balanced_dict[instrument],\n",
    "                    X_val_balanced_dict[instrument],   y_val_balanced_dict[instrument],\n",
    "                    X_test, y_test_dict[instrument] )"
   ]
  },
  {
   "cell_type": "code",
   "execution_count": null,
   "metadata": {},
   "outputs": [],
   "source": [
    "%%skip SVM_SKIP_TRAINING\n",
    "\n",
    "instrument = \"piano\"\n",
    "param_grid = {\n",
    "    # 'C': np.linspace(10, 100, 10),\n",
    "    # 'kernel': ['rbf', 'poly'],\n",
    "    # 'gamma':  ['scale']\n",
    "}\n",
    "svm_fit_instrument( instrument,\n",
    "                    param_grid,\n",
    "                    X_train_balanced_dict[instrument], y_train_balanced_dict[instrument],\n",
    "                    X_val_balanced_dict[instrument],   y_val_balanced_dict[instrument],\n",
    "                    X_test, y_test_dict[instrument] )"
   ]
  },
  {
   "cell_type": "code",
   "execution_count": null,
   "metadata": {},
   "outputs": [],
   "source": [
    "%%skip SVM_SKIP_TRAINING\n",
    "\n",
    "instrument = \"saxophone\"\n",
    "param_grid = {\n",
    "    # 'C': np.linspace(10, 100, 10),\n",
    "    # 'kernel': ['rbf', 'poly'],\n",
    "    # 'gamma':  ['scale']\n",
    "}\n",
    "svm_fit_instrument( instrument,\n",
    "                    param_grid,\n",
    "                    X_train_balanced_dict[instrument], y_train_balanced_dict[instrument],\n",
    "                    X_val_balanced_dict[instrument],   y_val_balanced_dict[instrument],\n",
    "                    X_test, y_test_dict[instrument] )"
   ]
  },
  {
   "cell_type": "code",
   "execution_count": null,
   "metadata": {},
   "outputs": [],
   "source": [
    "%%skip SVM_SKIP_TRAINING\n",
    "\n",
    "instrument = \"synthesizer\"\n",
    "param_grid = {\n",
    "    # 'C': np.linspace(10, 100, 10),\n",
    "    # 'kernel': ['rbf', 'poly'],\n",
    "    # 'gamma':  ['scale']\n",
    "}\n",
    "svm_fit_instrument( instrument,\n",
    "                    param_grid,\n",
    "                    X_train_balanced_dict[instrument], y_train_balanced_dict[instrument],\n",
    "                    X_val_balanced_dict[instrument],   y_val_balanced_dict[instrument],\n",
    "                    X_test, y_test_dict[instrument] )"
   ]
  },
  {
   "cell_type": "code",
   "execution_count": null,
   "metadata": {},
   "outputs": [],
   "source": [
    "%%skip SVM_SKIP_TRAINING\n",
    "\n",
    "instrument = \"trombone\"\n",
    "param_grid = {\n",
    "    # 'C': np.linspace(10, 100, 10),\n",
    "    # 'kernel': ['rbf', 'poly'],\n",
    "    # 'gamma':  ['scale']\n",
    "}\n",
    "svm_fit_instrument( instrument,\n",
    "                    param_grid,\n",
    "                    X_train_balanced_dict[instrument], y_train_balanced_dict[instrument],\n",
    "                    X_val_balanced_dict[instrument],   y_val_balanced_dict[instrument],\n",
    "                    X_test, y_test_dict[instrument] )"
   ]
  },
  {
   "cell_type": "code",
   "execution_count": null,
   "metadata": {},
   "outputs": [],
   "source": [
    "%%skip SVM_SKIP_TRAINING\n",
    "\n",
    "instrument = \"trumpet\"\n",
    "param_grid = {\n",
    "    # 'C': np.linspace(10, 100, 10),\n",
    "    # 'kernel': ['rbf', 'poly'],\n",
    "    # 'gamma':  ['scale']\n",
    "}\n",
    "svm_fit_instrument( instrument,\n",
    "                    param_grid,\n",
    "                    X_train_balanced_dict[instrument], y_train_balanced_dict[instrument],\n",
    "                    X_val_balanced_dict[instrument],   y_val_balanced_dict[instrument],\n",
    "                    X_test, y_test_dict[instrument] )"
   ]
  },
  {
   "cell_type": "code",
   "execution_count": null,
   "metadata": {},
   "outputs": [],
   "source": [
    "%%skip SVM_SKIP_TRAINING\n",
    "\n",
    "instrument = \"ukulele\"\n",
    "param_grid = {\n",
    "    # 'C': np.linspace(10, 100, 10),\n",
    "    # 'kernel': ['rbf', 'poly'],\n",
    "    # 'gamma':  ['scale']\n",
    "}\n",
    "svm_fit_instrument( instrument,\n",
    "                    param_grid,\n",
    "                    X_train_balanced_dict[instrument], y_train_balanced_dict[instrument],\n",
    "                    X_val_balanced_dict[instrument],   y_val_balanced_dict[instrument],\n",
    "                    X_test, y_test_dict[instrument] )"
   ]
  },
  {
   "cell_type": "code",
   "execution_count": null,
   "metadata": {},
   "outputs": [],
   "source": [
    "%%skip SVM_SKIP_TRAINING\n",
    "\n",
    "instrument = \"violin\"\n",
    "param_grid = {\n",
    "    # 'C': np.linspace(10, 100, 10),\n",
    "    # 'kernel': ['rbf', 'poly'],\n",
    "    # 'gamma':  ['scale']\n",
    "}\n",
    "svm_fit_instrument( instrument,\n",
    "                    param_grid,\n",
    "                    X_train_balanced_dict[instrument], y_train_balanced_dict[instrument],\n",
    "                    X_val_balanced_dict[instrument],   y_val_balanced_dict[instrument],\n",
    "                    X_test, y_test_dict[instrument] )"
   ]
  },
  {
   "cell_type": "code",
   "execution_count": null,
   "metadata": {},
   "outputs": [],
   "source": [
    "%%skip SVM_SKIP_TRAINING\n",
    "\n",
    "instrument = \"voice\"\n",
    "param_grid = {\n",
    "    # 'C': np.linspace(10, 20, 5),\n",
    "    # # 'kernel': ['poly'],\n",
    "    # 'kernel': ['rbf', 'sigmoid'],\n",
    "    # 'gamma':  ['scale']\n",
    "}\n",
    "svm_fit_instrument( instrument,\n",
    "                    param_grid,\n",
    "                    X_train_balanced_dict[instrument], y_train_balanced_dict[instrument],\n",
    "                    X_val_balanced_dict[instrument],   y_val_balanced_dict[instrument],\n",
    "                    X_test, y_test_dict[instrument] )"
   ]
  },
  {
   "cell_type": "code",
   "execution_count": null,
   "metadata": {},
   "outputs": [],
   "source": [
    "from mlp_classify import mlp_fit_instrument"
   ]
  },
  {
   "cell_type": "code",
   "execution_count": null,
   "metadata": {},
   "outputs": [],
   "source": [
    "%%skip MLP_SKIP_TRAINING\n",
    "\n",
    "instrument = \"accordion\"\n",
    "\n",
    "mlp_fit_instrument( instrument,\n",
    "                    X_train_balanced_dict[instrument], y_train_balanced_dict[instrument],\n",
    "                    X_val_balanced_dict[instrument],   y_val_balanced_dict[instrument],\n",
    "                    X_test, y_test_dict[instrument] )"
   ]
  },
  {
   "cell_type": "code",
   "execution_count": null,
   "metadata": {},
   "outputs": [],
   "source": [
    "%%skip MLP_SKIP_TRAINING\n",
    "\n",
    "instrument = \"banjo\"\n",
    "\n",
    "mlp_fit_instrument( instrument,\n",
    "                    X_train_balanced_dict[instrument], y_train_balanced_dict[instrument],\n",
    "                    X_val_balanced_dict[instrument],   y_val_balanced_dict[instrument],\n",
    "                    X_test, y_test_dict[instrument] )"
   ]
  },
  {
   "cell_type": "code",
   "execution_count": null,
   "metadata": {},
   "outputs": [],
   "source": [
    "%%skip MLP_SKIP_TRAINING\n",
    "\n",
    "instrument = \"bass\"\n",
    "\n",
    "mlp_fit_instrument( instrument,\n",
    "                    X_train_balanced_dict[instrument], y_train_balanced_dict[instrument],\n",
    "                    X_val_balanced_dict[instrument],   y_val_balanced_dict[instrument],\n",
    "                    X_test, y_test_dict[instrument] )"
   ]
  },
  {
   "cell_type": "code",
   "execution_count": null,
   "metadata": {},
   "outputs": [],
   "source": [
    "%%skip MLP_SKIP_TRAINING\n",
    "\n",
    "instrument = \"cello\"\n",
    "\n",
    "mlp_fit_instrument( instrument,\n",
    "                    X_train_balanced_dict[instrument], y_train_balanced_dict[instrument],\n",
    "                    X_val_balanced_dict[instrument],   y_val_balanced_dict[instrument],\n",
    "                    X_test, y_test_dict[instrument] )"
   ]
  },
  {
   "cell_type": "code",
   "execution_count": null,
   "metadata": {},
   "outputs": [],
   "source": [
    "%%skip MLP_SKIP_TRAINING\n",
    "\n",
    "instrument = \"clarinet\"\n",
    "\n",
    "mlp_fit_instrument( instrument,\n",
    "                    X_train_balanced_dict[instrument], y_train_balanced_dict[instrument],\n",
    "                    X_val_balanced_dict[instrument],   y_val_balanced_dict[instrument],\n",
    "                    X_test, y_test_dict[instrument] )"
   ]
  },
  {
   "cell_type": "code",
   "execution_count": null,
   "metadata": {},
   "outputs": [],
   "source": [
    "%%skip MLP_SKIP_TRAINING\n",
    "\n",
    "instrument = \"cymbals\"\n",
    "\n",
    "mlp_fit_instrument( instrument,\n",
    "                    X_train_balanced_dict[instrument], y_train_balanced_dict[instrument],\n",
    "                    X_val_balanced_dict[instrument],   y_val_balanced_dict[instrument],\n",
    "                    X_test, y_test_dict[instrument] )"
   ]
  },
  {
   "cell_type": "code",
   "execution_count": null,
   "metadata": {},
   "outputs": [],
   "source": [
    "%%skip MLP_SKIP_TRAINING\n",
    "\n",
    "instrument = \"drums\"\n",
    "\n",
    "mlp_fit_instrument( instrument,\n",
    "                    X_train_balanced_dict[instrument], y_train_balanced_dict[instrument],\n",
    "                    X_val_balanced_dict[instrument],   y_val_balanced_dict[instrument],\n",
    "                    X_test, y_test_dict[instrument] )"
   ]
  },
  {
   "cell_type": "code",
   "execution_count": null,
   "metadata": {},
   "outputs": [],
   "source": [
    "%%skip MLP_SKIP_TRAINING\n",
    "\n",
    "instrument = \"flute\"\n",
    "\n",
    "mlp_fit_instrument( instrument,\n",
    "                    X_train_balanced_dict[instrument], y_train_balanced_dict[instrument],\n",
    "                    X_val_balanced_dict[instrument],   y_val_balanced_dict[instrument],\n",
    "                    X_test, y_test_dict[instrument] )"
   ]
  },
  {
   "cell_type": "code",
   "execution_count": null,
   "metadata": {},
   "outputs": [],
   "source": [
    "%%skip MLP_SKIP_TRAINING\n",
    "\n",
    "instrument = \"guitar\"\n",
    "\n",
    "mlp_fit_instrument( instrument,\n",
    "                    X_train_balanced_dict[instrument], y_train_balanced_dict[instrument],\n",
    "                    X_val_balanced_dict[instrument],   y_val_balanced_dict[instrument],\n",
    "                    X_test, y_test_dict[instrument] )"
   ]
  },
  {
   "cell_type": "code",
   "execution_count": null,
   "metadata": {},
   "outputs": [],
   "source": [
    "%%skip MLP_SKIP_TRAINING\n",
    "\n",
    "instrument = \"mallet_percussion\"\n",
    "\n",
    "mlp_fit_instrument( instrument,\n",
    "                    X_train_balanced_dict[instrument], y_train_balanced_dict[instrument],\n",
    "                    X_val_balanced_dict[instrument],   y_val_balanced_dict[instrument],\n",
    "                    X_test, y_test_dict[instrument] )"
   ]
  },
  {
   "cell_type": "code",
   "execution_count": null,
   "metadata": {},
   "outputs": [],
   "source": [
    "%%skip MLP_SKIP_TRAINING\n",
    "\n",
    "instrument = \"mandolin\"\n",
    "\n",
    "mlp_fit_instrument( instrument,\n",
    "                    X_train_balanced_dict[instrument], y_train_balanced_dict[instrument],\n",
    "                    X_val_balanced_dict[instrument],   y_val_balanced_dict[instrument],\n",
    "                    X_test, y_test_dict[instrument] )"
   ]
  },
  {
   "cell_type": "code",
   "execution_count": null,
   "metadata": {},
   "outputs": [],
   "source": [
    "%%skip MLP_SKIP_TRAINING\n",
    "\n",
    "instrument = \"organ\"\n",
    "\n",
    "mlp_fit_instrument( instrument,\n",
    "                    X_train_balanced_dict[instrument], y_train_balanced_dict[instrument],\n",
    "                    X_val_balanced_dict[instrument],   y_val_balanced_dict[instrument],\n",
    "                    X_test, y_test_dict[instrument] )"
   ]
  },
  {
   "cell_type": "code",
   "execution_count": null,
   "metadata": {},
   "outputs": [],
   "source": [
    "%%skip MLP_SKIP_TRAINING\n",
    "\n",
    "instrument = \"piano\"\n",
    "\n",
    "mlp_fit_instrument( instrument,\n",
    "                    X_train_balanced_dict[instrument], y_train_balanced_dict[instrument],\n",
    "                    X_val_balanced_dict[instrument],   y_val_balanced_dict[instrument],\n",
    "                    X_test, y_test_dict[instrument] )"
   ]
  },
  {
   "cell_type": "code",
   "execution_count": null,
   "metadata": {},
   "outputs": [],
   "source": [
    "%%skip MLP_SKIP_TRAINING\n",
    "\n",
    "instrument = \"saxophone\"\n",
    "\n",
    "mlp_fit_instrument( instrument,\n",
    "                    X_train_balanced_dict[instrument], y_train_balanced_dict[instrument],\n",
    "                    X_val_balanced_dict[instrument],   y_val_balanced_dict[instrument],\n",
    "                    X_test, y_test_dict[instrument] )"
   ]
  },
  {
   "cell_type": "code",
   "execution_count": null,
   "metadata": {},
   "outputs": [],
   "source": [
    "%%skip MLP_SKIP_TRAINING\n",
    "\n",
    "instrument = \"synthesizer\"\n",
    "\n",
    "mlp_fit_instrument( instrument,\n",
    "                    X_train_balanced_dict[instrument], y_train_balanced_dict[instrument],\n",
    "                    X_val_balanced_dict[instrument],   y_val_balanced_dict[instrument],\n",
    "                    X_test, y_test_dict[instrument] )"
   ]
  },
  {
   "cell_type": "code",
   "execution_count": null,
   "metadata": {},
   "outputs": [],
   "source": [
    "%%skip MLP_SKIP_TRAINING\n",
    "\n",
    "instrument = \"trombone\"\n",
    "\n",
    "mlp_fit_instrument( instrument,\n",
    "                    X_train_balanced_dict[instrument], y_train_balanced_dict[instrument],\n",
    "                    X_val_balanced_dict[instrument],   y_val_balanced_dict[instrument],\n",
    "                    X_test, y_test_dict[instrument] )"
   ]
  },
  {
   "cell_type": "code",
   "execution_count": null,
   "metadata": {},
   "outputs": [],
   "source": [
    "%%skip MLP_SKIP_TRAINING\n",
    "\n",
    "instrument = \"trumpet\"\n",
    "\n",
    "mlp_fit_instrument( instrument,\n",
    "                    X_train_balanced_dict[instrument], y_train_balanced_dict[instrument],\n",
    "                    X_val_balanced_dict[instrument],   y_val_balanced_dict[instrument],\n",
    "                    X_test, y_test_dict[instrument] )"
   ]
  },
  {
   "cell_type": "code",
   "execution_count": null,
   "metadata": {},
   "outputs": [],
   "source": [
    "%%skip MLP_SKIP_TRAINING\n",
    "\n",
    "instrument = \"ukulele\"\n",
    "\n",
    "mlp_fit_instrument( instrument,\n",
    "                    X_train_balanced_dict[instrument], y_train_balanced_dict[instrument],\n",
    "                    X_val_balanced_dict[instrument],   y_val_balanced_dict[instrument],\n",
    "                    X_test, y_test_dict[instrument] )"
   ]
  },
  {
   "cell_type": "code",
   "execution_count": null,
   "metadata": {},
   "outputs": [],
   "source": [
    "%%skip MLP_SKIP_TRAINING\n",
    "\n",
    "instrument = \"violin\"\n",
    "\n",
    "mlp_fit_instrument( instrument,\n",
    "                    X_train_balanced_dict[instrument], y_train_balanced_dict[instrument],\n",
    "                    X_val_balanced_dict[instrument],   y_val_balanced_dict[instrument],\n",
    "                    X_test, y_test_dict[instrument] )"
   ]
  },
  {
   "cell_type": "code",
   "execution_count": null,
   "metadata": {},
   "outputs": [],
   "source": [
    "%%skip MLP_SKIP_TRAINING\n",
    "\n",
    "instrument = \"voice\"\n",
    "\n",
    "mlp_fit_instrument( instrument,\n",
    "                    X_train_balanced_dict[instrument], y_train_balanced_dict[instrument],\n",
    "                    X_val_balanced_dict[instrument],   y_val_balanced_dict[instrument],\n",
    "                    X_test, y_test_dict[instrument] )"
   ]
  }
 ],
 "metadata": {
  "kernelspec": {
   "display_name": ".venv",
   "language": "python",
   "name": "python3"
  },
  "language_info": {
   "codemirror_mode": {
    "name": "ipython",
    "version": 3
   },
   "file_extension": ".py",
   "mimetype": "text/x-python",
   "name": "python",
   "nbconvert_exporter": "python",
   "pygments_lexer": "ipython3",
   "version": "3.11.8"
  }
 },
 "nbformat": 4,
 "nbformat_minor": 2
}
